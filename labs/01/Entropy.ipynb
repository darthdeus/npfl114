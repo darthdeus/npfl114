{
 "cells": [
  {
   "cell_type": "code",
   "execution_count": 1,
   "metadata": {
    "collapsed": true
   },
   "outputs": [],
   "source": [
    "import numpy as np"
   ]
  },
  {
   "cell_type": "code",
   "execution_count": 18,
   "metadata": {},
   "outputs": [
    {
     "name": "stdout",
     "output_type": "stream",
     "text": [
      "0.96\n",
      "1.02\n",
      "0.06\n"
     ]
    }
   ],
   "source": [
    "#!/usr/bin/env python3\n",
    "import numpy as np\n",
    "\n",
    "def shannon_entropy(P):\n",
    "    P = P[P > 0]\n",
    "    return -np.sum(P * np.log(P))\n",
    "\n",
    "def cross_entropy(P, Q):\n",
    "    mask = P > 0\n",
    "    P, Q = P[mask], Q[mask]\n",
    "    \n",
    "    return -np.sum(P * np.log(Q))\n",
    "\n",
    "def kl_divergence(P, Q):\n",
    "    mask = P > 0\n",
    "    P, Q = P[mask], Q[mask]\n",
    "    \n",
    "    return cross_entropy(P, Q) - shannon_entropy(P)\n",
    "\n",
    "if __name__ == \"__main__\":\n",
    "    data_items = []\n",
    "    with open(\"numpy_entropy_data.txt\", \"r\") as data:\n",
    "        for line in data:\n",
    "            line = line.rstrip(\"\\n\")\n",
    "            data_items.append(line)\n",
    "    \n",
    "    data, counts = np.unique(data_items, return_counts=True)\n",
    "    counts = counts.astype(np.float32)\n",
    "    data_probs = counts / counts.sum()\n",
    "\n",
    "    data_dist = dict(zip(data, data_probs))\n",
    "\n",
    "    model_dist = {}\n",
    "    \n",
    "    with open(\"numpy_entropy_model.txt\", \"r\") as model:\n",
    "        for line in model:\n",
    "            key, prob = line.rstrip(\"\\n\").split(\"\\t\")\n",
    "            model_dist[key] = float(prob)\n",
    "\n",
    "    for (key, value) in data_dist.items():\n",
    "        if not key in model_dist.keys():\n",
    "            model_dist[key] = 0.0\n",
    "            \n",
    "    for (key, value) in model_dist.items():\n",
    "        if not key in data_dist.keys():\n",
    "            data_dist[key] = 0.0\n",
    "    \n",
    "    P = [data_dist[key] for key in sorted(data_dist.keys())]\n",
    "    P = np.fromiter(P, dtype=np.float32)\n",
    "    Q = [model_dist[key] for key in sorted(model_dist.keys())]\n",
    "    Q = np.fromiter(Q, dtype=np.float32)\n",
    "\n",
    "    print(\"{:.2f}\".format(shannon_entropy(P)))\n",
    "    print(\"{:.2f}\".format(cross_entropy(P, Q)))\n",
    "    print(\"{:.2f}\".format(kl_divergence(P, Q)))\n"
   ]
  },
  {
   "cell_type": "code",
   "execution_count": null,
   "metadata": {},
   "outputs": [],
   "source": [
    "data_dist, model_dist"
   ]
  },
  {
   "cell_type": "code",
   "execution_count": 14,
   "metadata": {},
   "outputs": [
    {
     "data": {
      "text/plain": [
       "array([ True,  True,  True], dtype=bool)"
      ]
     },
     "execution_count": 14,
     "metadata": {},
     "output_type": "execute_result"
    }
   ],
   "source": [
    "np.logical_not(np.logical_and(P == 0, Q == 0))"
   ]
  },
  {
   "cell_type": "code",
   "execution_count": null,
   "metadata": {
    "collapsed": true
   },
   "outputs": [],
   "source": []
  }
 ],
 "metadata": {
  "kernelspec": {
   "display_name": "Python 3",
   "language": "python",
   "name": "python3"
  },
  "language_info": {
   "codemirror_mode": {
    "name": "ipython",
    "version": 3
   },
   "file_extension": ".py",
   "mimetype": "text/x-python",
   "name": "python",
   "nbconvert_exporter": "python",
   "pygments_lexer": "ipython3",
   "version": "3.6.3"
  }
 },
 "nbformat": 4,
 "nbformat_minor": 2
}
