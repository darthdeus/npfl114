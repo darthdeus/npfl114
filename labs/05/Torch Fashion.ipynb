{
 "cells": [
  {
   "cell_type": "code",
   "execution_count": 1,
   "metadata": {
    "scrolled": true
   },
   "outputs": [],
   "source": [
    "import numpy as np\n",
    "\n",
    "import torch\n",
    "import torch.nn as nn\n",
    "import torch.optim as optim\n",
    "import torch.utils.data as data\n",
    "\n",
    "from torch.utils.data import Dataset, DataLoader\n",
    "from torch.autograd import Variable\n",
    "from torch import Tensor\n",
    "\n",
    "import torchvision\n",
    "import torchvision.datasets as datasets\n",
    "\n",
    "import matplotlib.pyplot as plt\n",
    "%matplotlib inline\n",
    "\n",
    "from tqdm import tqdm\n",
    "\n",
    "from IPython import display\n",
    "\n",
    "%load_ext autoreload\n",
    "%autoreload 2"
   ]
  },
  {
   "cell_type": "code",
   "execution_count": 2,
   "metadata": {
    "collapsed": true
   },
   "outputs": [],
   "source": [
    "class MasksDataset(data.Dataset):\n",
    "    def __init__(self, file):\n",
    "        data = np.load(file)\n",
    "        \n",
    "        self.images = self.torch_image(data[\"images\"]) if \"images\" in data else None\n",
    "        self.masks  = self.torch_image(data[\"masks\"]) if \"masks\" in data else None\n",
    "        self.labels = torch.from_numpy(data[\"labels\"]).cuda() if \"labels\" in data else None\n",
    "\n",
    "    def __len__(self):\n",
    "        return len(self.images)\n",
    "    \n",
    "    def __getitem__(self, idx):\n",
    "        return {\n",
    "            \"images\": self.images[idx],\n",
    "            \"masks\": self.masks[idx] if self.masks is not None else None,\n",
    "            \"labels\": self.labels[idx] if self.labels is not None else None\n",
    "        }\n",
    "        \n",
    "    def torch_image(self, img):\n",
    "        return torch.from_numpy(img.astype(np.float32)).permute(0,3,1,2).cuda()"
   ]
  },
  {
   "cell_type": "code",
   "execution_count": 3,
   "metadata": {},
   "outputs": [],
   "source": [
    "dir = \"data/fashion-masks\"\n",
    "\n",
    "train = MasksDataset(f\"{dir}/fashion-masks-train.npz\")\n",
    "dev = MasksDataset(f\"{dir}/fashion-masks-dev.npz\")\n",
    "test = MasksDataset(f\"{dir}/fashion-masks-test.npz\")"
   ]
  },
  {
   "cell_type": "code",
   "execution_count": 4,
   "metadata": {},
   "outputs": [],
   "source": [
    "def imshow(images, cols=10, figsize=(15,6)):\n",
    "    n = len(images)\n",
    "    \n",
    "    images = images.permute(0,2,3,1).cpu().numpy()\n",
    "        \n",
    "    im = images[:,:,:,0]\n",
    "    \n",
    "    plt.figure(figsize=figsize)\n",
    "    \n",
    "    for i in range(n):\n",
    "        plt.subplot(n // cols + 1, cols, i + 1)\n",
    "        plt.axis(\"off\")\n",
    "        plt.imshow(im[i], cmap=\"gray\")\n",
    "        \n",
    "    plt.tight_layout()"
   ]
  },
  {
   "cell_type": "code",
   "execution_count": 5,
   "metadata": {},
   "outputs": [
    {
     "data": {
      "image/png": "[encoded data removed]",
      "text/plain": [
       "<matplotlib.figure.Figure at 0x127e19a40b8>"
      ]
     },
     "metadata": {},
     "output_type": "display_data"
    }
   ],
   "source": [
    "imshow(train.masks[:10])"
   ]
  },
  {
   "cell_type": "code",
   "execution_count": 6,
   "metadata": {},
   "outputs": [
    {
     "data": {
      "image/png": "[encoded data removed]",
      "text/plain": [
       "<matplotlib.figure.Figure at 0x127e19a46a0>"
      ]
     },
     "metadata": {},
     "output_type": "display_data"
    }
   ],
   "source": [
    "imshow(train.images[:10])"
   ]
  },
  {
   "cell_type": "code",
   "execution_count": 52,
   "metadata": {},
   "outputs": [
    {
     "data": {
      "text/plain": [
       "Sequential(\n",
       "  (0): Conv2d(1, 32, kernel_size=(3, 3), stride=(1, 1), padding=(1, 1))\n",
       "  (1): BatchNorm2d(32, eps=1e-05, momentum=0.1, affine=True)\n",
       "  (2): ReLU()\n",
       "  (3): MaxPool2d(kernel_size=(2, 2), stride=(2, 2), dilation=(1, 1), ceil_mode=False)\n",
       "  (4): Conv2d(32, 32, kernel_size=(3, 3), stride=(1, 1), padding=(1, 1))\n",
       "  (5): BatchNorm2d(32, eps=1e-05, momentum=0.1, affine=True)\n",
       "  (6): ReLU()\n",
       "  (7): MaxPool2d(kernel_size=(2, 2), stride=(2, 2), dilation=(1, 1), ceil_mode=False)\n",
       "  (8): Conv2d(32, 32, kernel_size=(3, 3), stride=(1, 1), padding=(1, 1))\n",
       "  (9): BatchNorm2d(32, eps=1e-05, momentum=0.1, affine=True)\n",
       "  (10): ReLU()\n",
       "  (11): Upsample(scale_factor=2, mode=nearest)\n",
       "  (12): Conv2d(32, 32, kernel_size=(3, 3), stride=(1, 1), padding=(1, 1))\n",
       "  (13): BatchNorm2d(32, eps=1e-05, momentum=0.1, affine=True)\n",
       "  (14): ReLU()\n",
       "  (15): Upsample(scale_factor=2, mode=nearest)\n",
       "  (16): Conv2d(32, 1, kernel_size=(3, 3), stride=(1, 1), padding=(1, 1))\n",
       "  (17): Sigmoid()\n",
       ")"
      ]
     },
     "execution_count": 52,
     "metadata": {},
     "output_type": "execute_result"
    }
   ],
   "source": [
    "model = nn.Sequential(\n",
    "    nn.Conv2d(1, 32, 3, padding=1),\n",
    "    nn.BatchNorm2d(32),\n",
    "    nn.ReLU(),\n",
    "    nn.MaxPool2d(2),\n",
    "    \n",
    "    nn.Conv2d(32, 32, 3, padding=1),\n",
    "    nn.BatchNorm2d(32),\n",
    "    nn.ReLU(),\n",
    "    nn.MaxPool2d(2),\n",
    "       \n",
    "    nn.Conv2d(32, 32, 3, padding=1),\n",
    "    nn.BatchNorm2d(32),\n",
    "    nn.ReLU(),\n",
    "    nn.Upsample(scale_factor=2),\n",
    "    \n",
    "    nn.Conv2d(32, 32, 3, padding=1),\n",
    "    nn.BatchNorm2d(32),\n",
    "    nn.ReLU(),\n",
    "    nn.Upsample(scale_factor=2),\n",
    "    \n",
    "    nn.Conv2d(32, 1, 3, padding=1),\n",
    "    nn.Sigmoid()\n",
    ")\n",
    "\n",
    "model.cuda()"
   ]
  },
  {
   "cell_type": "code",
   "execution_count": 53,
   "metadata": {},
   "outputs": [],
   "source": [
    "BATCH_SIZE = 128\n",
    "\n",
    "criterion = nn.MSELoss()\n",
    "optimizer = optim.Adam(model.parameters(), lr=0.1)\n",
    "train_loader = data.DataLoader(train, batch_size=BATCH_SIZE)\n",
    "\n",
    "scheduler = optim.lr_scheduler.StepLR(optimizer, step_size=1, gamma=0.95)\n",
    "\n",
    "losses = []"
   ]
  },
  {
   "cell_type": "code",
   "execution_count": 54,
   "metadata": {
    "scrolled": false
   },
   "outputs": [
    {
     "data": {
      "image/png": "[encoded data removed]",
      "text/plain": [
       "<matplotlib.figure.Figure at 0x127ccfb1748>"
      ]
     },
     "metadata": {},
     "output_type": "display_data"
    },
    {
     "data": {
      "text/plain": [
       "None"
      ]
     },
     "metadata": {},
     "output_type": "display_data"
    },
    {
     "name": "stdout",
     "output_type": "stream",
     "text": [
      "0.024571379646658897 1 [0.05688000922764597]\n"
     ]
    }
   ],
   "source": [
    "EPOCHS = 2\n",
    "\n",
    "for epoch in range(EPOCHS):\n",
    "    scheduler.step()\n",
    "    \n",
    "    for i, batch in enumerate(train_loader):\n",
    "        images = Variable(batch[\"images\"])\n",
    "        masks = Variable(batch[\"masks\"])\n",
    "\n",
    "        y_pred = model(images)\n",
    "        loss = criterion(y_pred, masks)\n",
    "\n",
    "        optimizer.zero_grad()\n",
    "        loss.backward()\n",
    "        optimizer.step()\n",
    "\n",
    "        losses.append(np.log(loss.data[0]))\n",
    "\n",
    "        if i % 100 == 0:\n",
    "            scheduler.step()\n",
    "        \n",
    "        if i % 100 == 0 and i > 0:\n",
    "            plt.plot(losses)\n",
    "            display.clear_output(wait=True)\n",
    "            display.display(plt.show())\n",
    "            print(loss.data[0], epoch, scheduler.get_lr())"
   ]
  },
  {
   "cell_type": "code",
   "execution_count": 55,
   "metadata": {},
   "outputs": [
    {
     "data": {
      "text/plain": [
       "0.936170432284016"
      ]
     },
     "execution_count": 55,
     "metadata": {},
     "output_type": "execute_result"
    }
   ],
   "source": [
    "NUM_TO_COMPARE=2000\n",
    "\n",
    "dev_compare = dev[:NUM_TO_COMPARE][\"masks\"]\n",
    "gen_compare = model(Variable(dev[:NUM_TO_COMPARE][\"images\"])).data\n",
    "\n",
    "a = dev_compare.round().byte()\n",
    "b = gen_compare.round().byte()\n",
    "\n",
    "(a & b).float().sum() / (a | b).float().sum()"
   ]
  },
  {
   "cell_type": "code",
   "execution_count": 56,
   "metadata": {},
   "outputs": [
    {
     "data": {
      "image/png": "[encoded data removed]",
      "text/plain": [
       "<matplotlib.figure.Figure at 0x127ccaa75c0>"
      ]
     },
     "metadata": {},
     "output_type": "display_data"
    }
   ],
   "source": [
    "imshow(gen_compare[:20].round(), figsize=(15, 5))"
   ]
  },
  {
   "cell_type": "code",
   "execution_count": 57,
   "metadata": {},
   "outputs": [
    {
     "data": {
      "image/png": "[encoded data removed]",
      "text/plain": [
       "<matplotlib.figure.Figure at 0x127a4e39940>"
      ]
     },
     "metadata": {},
     "output_type": "display_data"
    }
   ],
   "source": [
    "imshow(dev_compare[:20], figsize=(15, 5))"
   ]
  },
  {
   "cell_type": "code",
   "execution_count": null,
   "metadata": {
    "collapsed": true
   },
   "outputs": [],
   "source": []
  },
  {
   "cell_type": "code",
   "execution_count": null,
   "metadata": {
    "collapsed": true
   },
   "outputs": [],
   "source": []
  }
 ],
 "metadata": {
  "kernelspec": {
   "display_name": "Python 3",
   "language": "python",
   "name": "python3"
  },
  "language_info": {
   "codemirror_mode": {
    "name": "ipython",
    "version": 3
   },
   "file_extension": ".py",
   "mimetype": "text/x-python",
   "name": "python",
   "nbconvert_exporter": "python",
   "pygments_lexer": "ipython3",
   "version": "3.6.3"
  }
 },
 "nbformat": 4,
 "nbformat_minor": 2
}
