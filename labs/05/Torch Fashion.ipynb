{
 "cells": [
  {
   "cell_type": "code",
   "execution_count": 14,
   "metadata": {
    "scrolled": true
   },
   "outputs": [
    {
     "name": "stdout",
     "output_type": "stream",
     "text": [
      "The autoreload extension is already loaded. To reload it, use:\n",
      "  %reload_ext autoreload\n"
     ]
    }
   ],
   "source": [
    "import numpy as np\n",
    "\n",
    "import torch\n",
    "import torch.nn as nn\n",
    "import torch.optim as optim\n",
    "import torch.utils.data as data\n",
    "\n",
    "from torch.utils.data import Dataset, DataLoader\n",
    "from torch.autograd import Variable\n",
    "from torch import Tensor\n",
    "\n",
    "import torchvision\n",
    "import torchvision.datasets as datasets\n",
    "\n",
    "import matplotlib.pyplot as plt\n",
    "%matplotlib inline\n",
    "\n",
    "from tqdm import tqdm\n",
    "\n",
    "from IPython import display\n",
    "\n",
    "%load_ext autoreload\n",
    "%autoreload 2"
   ]
  },
  {
   "cell_type": "code",
   "execution_count": 46,
   "metadata": {
    "collapsed": true
   },
   "outputs": [],
   "source": [
    "class MasksDataset(data.Dataset):\n",
    "    def __init__(self, file):\n",
    "        data = np.load(file)\n",
    "        \n",
    "        self.images = self.torch_image(data[\"images\"]) if \"images\" in data else None\n",
    "        self.masks  = self.torch_image(data[\"masks\"]) if \"masks\" in data else None\n",
    "        self.labels = torch.from_numpy(data[\"labels\"]).cuda() if \"labels\" in data else None\n",
    "\n",
    "    def __len__(self):\n",
    "        return len(self.images)\n",
    "    \n",
    "    def __getitem__(self, idx):\n",
    "        return {\n",
    "            \"images\": self.images[idx],\n",
    "            \"masks\": self.masks[idx] if self.masks is not None else None,\n",
    "            \"labels\": self.labels[idx] if self.labels is not None else None\n",
    "        }\n",
    "        \n",
    "    def torch_image(self, img):\n",
    "        return torch.from_numpy(img.astype(np.float32)).permute(0,3,1,2).cuda()"
   ]
  },
  {
   "cell_type": "code",
   "execution_count": 16,
   "metadata": {
    "collapsed": true
   },
   "outputs": [],
   "source": [
    "dir = \"data/fashion-masks\"\n",
    "\n",
    "train = MasksDataset(f\"{dir}/fashion-masks-train.npz\")\n",
    "dev = MasksDataset(f\"{dir}/fashion-masks-dev.npz\")\n",
    "test = MasksDataset(f\"{dir}/fashion-masks-test.npz\")"
   ]
  },
  {
   "cell_type": "code",
   "execution_count": 17,
   "metadata": {
    "collapsed": true
   },
   "outputs": [],
   "source": [
    "def imshow(images, cols=10, figsize=(15,6)):\n",
    "    n = len(images)\n",
    "    \n",
    "    images = images.permute(0,2,3,1).cpu().numpy()\n",
    "        \n",
    "    im = images[:,:,:,0]\n",
    "    \n",
    "    plt.figure(figsize=figsize)\n",
    "    \n",
    "    for i in range(n):\n",
    "        plt.subplot(n // cols + 1, cols, i + 1)\n",
    "        plt.axis(\"off\")\n",
    "        plt.imshow(im[i], cmap=\"gray\")\n",
    "        \n",
    "    plt.tight_layout()"
   ]
  },
  {
   "cell_type": "code",
   "execution_count": 18,
   "metadata": {},
   "outputs": [
    {
     "data": {
      "image/png": "[encoded data removed]",
      "text/plain": [
       "<matplotlib.figure.Figure at 0x17e02fa9d68>"
      ]
     },
     "metadata": {},
     "output_type": "display_data"
    }
   ],
   "source": [
    "imshow(train.masks[:10])"
   ]
  },
  {
   "cell_type": "code",
   "execution_count": 19,
   "metadata": {},
   "outputs": [
    {
     "data": {
      "image/png": "[encoded data removed]",
      "text/plain": [
       "<matplotlib.figure.Figure at 0x17e02fc0940>"
      ]
     },
     "metadata": {},
     "output_type": "display_data"
    }
   ],
   "source": [
    "imshow(train.images[:10])"
   ]
  },
  {
   "cell_type": "code",
   "execution_count": 31,
   "metadata": {
    "collapsed": true
   },
   "outputs": [],
   "source": [
    "class Flatten(nn.Module):\n",
    "    def forward(self, x):\n",
    "        return x.view(x.size()[0], -1)"
   ]
  },
  {
   "cell_type": "code",
   "execution_count": 59,
   "metadata": {},
   "outputs": [],
   "source": [
    "encoder = nn.Sequential(\n",
    "    nn.Conv2d(1, 32, 3, padding=1),\n",
    "    nn.BatchNorm2d(32),\n",
    "    nn.ReLU(),\n",
    "    nn.MaxPool2d(2),\n",
    "    \n",
    "    nn.Conv2d(32, 32, 3, padding=1),\n",
    "    nn.BatchNorm2d(32),\n",
    "    nn.ReLU(),\n",
    "    nn.MaxPool2d(2),\n",
    ").cuda()\n",
    "\n",
    "decoder = nn.Sequential(\n",
    "    nn.Conv2d(32, 32, 3, padding=1),\n",
    "    nn.BatchNorm2d(32),\n",
    "    nn.ReLU(),\n",
    "    nn.Upsample(scale_factor=2),\n",
    "    \n",
    "    nn.Conv2d(32, 32, 3, padding=1),\n",
    "    nn.BatchNorm2d(32),\n",
    "    nn.ReLU(),\n",
    "    nn.Upsample(scale_factor=2),\n",
    "    \n",
    "    nn.Conv2d(32, 1, 3, padding=1),\n",
    "    nn.Sigmoid()\n",
    ").cuda()\n",
    "\n",
    "mask_model = nn.Sequential(\n",
    "    encoder,\n",
    "    decoder\n",
    ").cuda()\n",
    "\n",
    "label_model = nn.Sequential(\n",
    "    encoder,\n",
    "    \n",
    "    nn.Conv2d(32, 64, 3, padding=1),\n",
    "    nn.BatchNorm2d(64),\n",
    "    nn.ReLU(),\n",
    "    nn.MaxPool2d(2),\n",
    "    \n",
    "    nn.Conv2d(64, 128, 3, padding=1),\n",
    "    nn.BatchNorm2d(128),\n",
    "    nn.ReLU(),\n",
    "    nn.MaxPool2d(2),\n",
    "    \n",
    "    Flatten(),\n",
    "    nn.Linear(128, 1024),\n",
    "    nn.ReLU(),\n",
    "    nn.Linear(1024, 10),\n",
    "    nn.Softmax(1)\n",
    ").cuda()"
   ]
  },
  {
   "cell_type": "code",
   "execution_count": 60,
   "metadata": {
    "collapsed": true
   },
   "outputs": [],
   "source": [
    "BATCH_SIZE = 128\n",
    "\n",
    "mse_loss = nn.MSELoss()\n",
    "ce_loss = nn.CrossEntropyLoss()\n",
    "\n",
    "mask_optimizer = optim.Adam(mask_model.parameters(), lr=0.1)\n",
    "label_optimizer = optim.Adam(label_model.parameters(), lr=0.01)\n",
    "\n",
    "train_loader = data.DataLoader(train, batch_size=BATCH_SIZE)\n",
    "\n",
    "mask_scheduler = optim.lr_scheduler.StepLR(mask_optimizer, step_size=100, gamma=0.95)\n",
    "label_scheduler = optim.lr_scheduler.StepLR(label_optimizer, step_size=100, gamma=0.95)\n",
    "\n",
    "mask_losses = []\n",
    "label_losses = []"
   ]
  },
  {
   "cell_type": "code",
   "execution_count": 62,
   "metadata": {
    "scrolled": false
   },
   "outputs": [
    {
     "data": {
      "image/png": "[encoded data removed]",
      "text/plain": [
       "<matplotlib.figure.Figure at 0x17e03625fd0>"
      ]
     },
     "metadata": {},
     "output_type": "display_data"
    },
    {
     "data": {
      "text/plain": [
       "None"
      ]
     },
     "metadata": {},
     "output_type": "display_data"
    },
    {
     "name": "stdout",
     "output_type": "stream",
     "text": [
      "1.6914339065551758 4 [0.012851215656510312]\n"
     ]
    }
   ],
   "source": [
    "EPOCHS = 5\n",
    "\n",
    "for epoch in range(EPOCHS):\n",
    "    for i, batch in enumerate(train_loader):\n",
    "        scheduler.step()\n",
    "\n",
    "        images = Variable(batch[\"images\"])\n",
    "        masks = Variable(batch[\"masks\"])\n",
    "        labels = Variable(batch[\"labels\"])\n",
    "        \n",
    "#         y_pred_mask = mask_model(images)\n",
    "#         loss = mse_loss(y_pred_mask, masks)\n",
    "\n",
    "#         mask_optimizer.zero_grad()\n",
    "#         loss.backward()\n",
    "#         mask_optimizer.step()\n",
    "\n",
    "#         mask_losses.append(np.log(loss.data[0]))\n",
    "\n",
    "        y_pred_label = label_model(images)\n",
    "        loss = ce_loss(y_pred_label, labels.cuda())\n",
    "        \n",
    "        label_optimizer.zero_grad()\n",
    "        loss.backward()\n",
    "        label_optimizer.step()\n",
    "        \n",
    "        label_losses.append(loss.data[0])\n",
    "        \n",
    "        if i % 100 == 0 and i > 0:\n",
    "            plt.plot(mask_losses)\n",
    "            plt.plot(label_losses)\n",
    "            display.clear_output(wait=True)\n",
    "            display.display(plt.show())\n",
    "            print(loss.data[0], epoch, scheduler.get_lr())"
   ]
  },
  {
   "cell_type": "code",
   "execution_count": 83,
   "metadata": {},
   "outputs": [],
   "source": [
    "pred_labels = label_model(Variable(dev[:][\"images\"])).data.cpu().numpy()\n",
    "true_labels = dev[:][\"labels\"].cpu().numpy()"
   ]
  },
  {
   "cell_type": "code",
   "execution_count": 85,
   "metadata": {},
   "outputs": [
    {
     "data": {
      "text/plain": [
       "0.71179999999999999"
      ]
     },
     "execution_count": 85,
     "metadata": {},
     "output_type": "execute_result"
    }
   ],
   "source": [
    "np.mean(np.argmax(pred_labels, axis=1) == true_labels)"
   ]
  },
  {
   "cell_type": "code",
   "execution_count": null,
   "metadata": {
    "collapsed": true
   },
   "outputs": [],
   "source": []
  },
  {
   "cell_type": "code",
   "execution_count": 61,
   "metadata": {},
   "outputs": [
    {
     "data": {
      "text/plain": [
       "0.9363673382327277"
      ]
     },
     "execution_count": 61,
     "metadata": {},
     "output_type": "execute_result"
    }
   ],
   "source": [
    "NUM_TO_COMPARE=2000\n",
    "\n",
    "dev_compare = dev[:NUM_TO_COMPARE][\"masks\"]\n",
    "gen_compare = mask_model(Variable(dev[:NUM_TO_COMPARE][\"images\"])).data\n",
    "\n",
    "a = dev_compare.round().byte()\n",
    "b = gen_compare.round().byte()\n",
    "\n",
    "(a & b).float().sum() / (a | b).float().sum()"
   ]
  },
  {
   "cell_type": "code",
   "execution_count": 62,
   "metadata": {},
   "outputs": [
    {
     "data": {
      "image/png": "[encoded data removed]",
      "text/plain": [
       "<matplotlib.figure.Figure at 0x12793e0a320>"
      ]
     },
     "metadata": {},
     "output_type": "display_data"
    }
   ],
   "source": [
    "imshow(gen_compare[:20].round(), figsize=(15, 5))"
   ]
  },
  {
   "cell_type": "code",
   "execution_count": 63,
   "metadata": {},
   "outputs": [
    {
     "data": {
      "image/png": "[encoded data removed]",
      "text/plain": [
       "<matplotlib.figure.Figure at 0x127d6594eb8>"
      ]
     },
     "metadata": {},
     "output_type": "display_data"
    }
   ],
   "source": [
    "imshow(dev_compare[:20], figsize=(15, 5))"
   ]
  },
  {
   "cell_type": "code",
   "execution_count": null,
   "metadata": {
    "collapsed": true
   },
   "outputs": [],
   "source": []
  }
 ],
 "metadata": {
  "kernelspec": {
   "display_name": "Python 3",
   "language": "python",
   "name": "python3"
  },
  "language_info": {
   "codemirror_mode": {
    "name": "ipython",
    "version": 3
   },
   "file_extension": ".py",
   "mimetype": "text/x-python",
   "name": "python",
   "nbconvert_exporter": "python",
   "pygments_lexer": "ipython3",
   "version": "3.6.3"
  }
 },
 "nbformat": 4,
 "nbformat_minor": 2
}
