{
 "cells": [
  {
   "cell_type": "code",
   "execution_count": 1,
   "metadata": {
    "collapsed": true,
    "scrolled": true
   },
   "outputs": [],
   "source": [
    "import numpy as np\n",
    "\n",
    "import torch\n",
    "import torch.nn as nn\n",
    "import torch.optim as optim\n",
    "import torch.utils.data as data\n",
    "\n",
    "from torch.utils.data import Dataset, DataLoader\n",
    "from torch.autograd import Variable\n",
    "from torch import Tensor\n",
    "\n",
    "import torchvision\n",
    "import torchvision.datasets as datasets\n",
    "\n",
    "import matplotlib.pyplot as plt\n",
    "%matplotlib inline\n",
    "\n",
    "from tqdm import tqdm\n",
    "\n",
    "from IPython import display\n",
    "\n",
    "%load_ext autoreload\n",
    "%autoreload 2"
   ]
  },
  {
   "cell_type": "code",
   "execution_count": 2,
   "metadata": {
    "collapsed": true
   },
   "outputs": [],
   "source": [
    "class MasksDataset(data.Dataset):\n",
    "    def __init__(self, file):\n",
    "        data = np.load(file)\n",
    "        \n",
    "        self.images = self.torch_image(data[\"images\"]) if \"images\" in data else None\n",
    "        self.masks  = self.torch_image(data[\"masks\"]) if \"masks\" in data else None\n",
    "        self.labels = torch.from_numpy(data[\"labels\"]).cuda() if \"labels\" in data else None\n",
    "\n",
    "    def __len__(self):\n",
    "        return len(self.images)\n",
    "    \n",
    "    def __getitem__(self, idx):\n",
    "        return {\n",
    "            \"images\": self.images[idx],\n",
    "            \"masks\": self.masks[idx] if self.masks is not None else self.images[idx],\n",
    "            \"labels\": self.labels[idx] if self.labels is not None else self.images[idx]\n",
    "        }\n",
    "        \n",
    "    def torch_image(self, img):\n",
    "        return torch.from_numpy(img.astype(np.float32)).permute(0,3,1,2).cuda()"
   ]
  },
  {
   "cell_type": "code",
   "execution_count": 3,
   "metadata": {
    "collapsed": true
   },
   "outputs": [],
   "source": [
    "dir = \"data/fashion-masks\"\n",
    "\n",
    "train = MasksDataset(f\"{dir}/fashion-masks-train.npz\")\n",
    "dev = MasksDataset(f\"{dir}/fashion-masks-dev.npz\")\n",
    "test = MasksDataset(f\"{dir}/fashion-masks-test.npz\")"
   ]
  },
  {
   "cell_type": "code",
   "execution_count": 4,
   "metadata": {
    "collapsed": true
   },
   "outputs": [],
   "source": [
    "def imshow(images, cols=10, figsize=(15,6)):\n",
    "    n = len(images)\n",
    "    \n",
    "    images = images.permute(0,2,3,1).cpu().numpy()\n",
    "        \n",
    "    im = images[:,:,:,0]\n",
    "    \n",
    "    plt.figure(figsize=figsize)\n",
    "    \n",
    "    for i in range(n):\n",
    "        plt.subplot(n // cols + 1, cols, i + 1)\n",
    "        plt.axis(\"off\")\n",
    "        plt.imshow(im[i], cmap=\"gray\")\n",
    "        \n",
    "    plt.tight_layout()\n",
    "    plt.show()\n",
    "\n",
    "class Flatten(nn.Module):\n",
    "    def forward(self, x):\n",
    "        return x.view(x.size()[0], -1)\n",
    "\n",
    "class ConvBlock(nn.Module):\n",
    "    def __init__(self, inputs=32, outputs=32):\n",
    "        super(ConvBlock, self).__init__()\n",
    "        \n",
    "        self.model = nn.Sequential(\n",
    "            nn.Conv2d(inputs, outputs, 3, padding=1),\n",
    "            nn.BatchNorm2d(outputs),\n",
    "            nn.ReLU(),\n",
    "            nn.MaxPool2d(2),\n",
    "        )\n",
    "        \n",
    "    def forward(self, x):\n",
    "        return self.model(x)\n",
    "\n",
    "class DeconvBlock(nn.Module):\n",
    "    def __init__(self, inputs=32, outputs=32):\n",
    "        super(DeconvBlock, self).__init__()\n",
    "        \n",
    "        self.model = nn.Sequential(\n",
    "            nn.Conv2d(inputs, outputs, 3, padding=1),\n",
    "            nn.BatchNorm2d(outputs),\n",
    "            nn.ReLU(),\n",
    "            nn.Upsample(scale_factor=2),\n",
    "        )\n",
    "        \n",
    "    def forward(self, x):\n",
    "        return self.model(x)\n",
    "    \n",
    "class Trainer:\n",
    "    def __init__(self, model, lr, criterion, gamma=0.95, step_size=100):\n",
    "        self.model = model\n",
    "        self.optimizer = optim.Adam(model.parameters(), lr=lr)\n",
    "        self.scheduler = optim.lr_scheduler.StepLR(self.optimizer, step_size=step_size, gamma=gamma)\n",
    "        self.criterion = criterion\n",
    "        self.losses = []\n",
    "        \n",
    "    def fit(self, loader, label_fn, epochs=5, print_each=100):\n",
    "        self.losses = []\n",
    "        \n",
    "        self.model.train()\n",
    "        \n",
    "        for epoch in range(epochs):\n",
    "            for i, batch in enumerate(loader):\n",
    "                self.scheduler.step()\n",
    "\n",
    "                images = Variable(batch[\"images\"])\n",
    "                masks = Variable(batch[\"masks\"])\n",
    "\n",
    "                y_pred = self.model(images)\n",
    "                loss = self.criterion(y_pred, label_fn(batch))\n",
    "\n",
    "                self.optimizer.zero_grad()\n",
    "                loss.backward()\n",
    "                self.optimizer.step()\n",
    "\n",
    "                self.losses.append(np.log(loss.data[0]))\n",
    "                \n",
    "                if i % 100 == 0 and i > 0:\n",
    "                    plt.plot(self.losses)\n",
    "                    display.clear_output(wait=True)\n",
    "                    display.display(plt.show())\n",
    "\n",
    "                    print(\"epoch: {}\".format(epoch))\n",
    "                    print(\"label_loss: {:0.4f} label_LR: {:0.4f}\".format(loss.data[0], self.scheduler.get_lr()[0]))\n",
    "\n",
    "        self.model.eval()"
   ]
  },
  {
   "cell_type": "code",
   "execution_count": 5,
   "metadata": {},
   "outputs": [
    {
     "data": {
      "image/png": "[encoded data removed]",
      "text/plain": [
       "<matplotlib.figure.Figure at 0x231c6e8b588>"
      ]
     },
     "metadata": {},
     "output_type": "display_data"
    },
    {
     "data": {
      "image/png": "[encoded data removed]",
      "text/plain": [
       "<matplotlib.figure.Figure at 0x23190023710>"
      ]
     },
     "metadata": {},
     "output_type": "display_data"
    }
   ],
   "source": [
    "imshow(train.masks[:10])\n",
    "imshow(train.images[:10])"
   ]
  },
  {
   "cell_type": "code",
   "execution_count": 6,
   "metadata": {
    "collapsed": true
   },
   "outputs": [],
   "source": [
    "BATCH_SIZE = 256\n",
    "train_loader = data.DataLoader(train, batch_size=BATCH_SIZE)\n",
    "dev_loader = data.DataLoader(dev, batch_size=BATCH_SIZE)\n",
    "test_loader = data.DataLoader(test, batch_size=BATCH_SIZE)"
   ]
  },
  {
   "cell_type": "markdown",
   "metadata": {},
   "source": [
    "# Model definition"
   ]
  },
  {
   "cell_type": "code",
   "execution_count": 58,
   "metadata": {
    "collapsed": true
   },
   "outputs": [],
   "source": [
    "mask_model = nn.Sequential(\n",
    "    ConvBlock(1, 128),\n",
    "    ConvBlock(128, 256),\n",
    "    DeconvBlock(256, 128),\n",
    "    DeconvBlock(128, 128),\n",
    "    \n",
    "    nn.Conv2d(128, 1, 3, padding=1),\n",
    "    nn.Sigmoid()\n",
    ").cuda()"
   ]
  },
  {
   "cell_type": "code",
   "execution_count": 32,
   "metadata": {
    "collapsed": true
   },
   "outputs": [],
   "source": [
    "label_model = nn.Sequential(\n",
    "    ConvBlock(1, 64),\n",
    "    ConvBlock(64, 64),\n",
    "    ConvBlock(64, 128),\n",
    "    ConvBlock(128, 128),\n",
    "    \n",
    "    Flatten(),\n",
    "    nn.Linear(128, 1024),\n",
    "    nn.Dropout(),\n",
    "    nn.ReLU(),\n",
    "    nn.Linear(1024, 1024),\n",
    "    nn.Dropout(),\n",
    "    nn.ReLU(),\n",
    "    nn.Linear(1024, 10),\n",
    "    nn.Softmax(1)\n",
    ").cuda()"
   ]
  },
  {
   "cell_type": "code",
   "execution_count": 59,
   "metadata": {
    "scrolled": false
   },
   "outputs": [
    {
     "data": {
      "image/png": "[encoded data removed]",
      "text/plain": [
       "<matplotlib.figure.Figure at 0x231b0464198>"
      ]
     },
     "metadata": {},
     "output_type": "display_data"
    },
    {
     "data": {
      "text/plain": [
       "None"
      ]
     },
     "metadata": {},
     "output_type": "display_data"
    },
    {
     "name": "stdout",
     "output_type": "stream",
     "text": [
      "epoch: 199\n",
      "label_loss: 0.0004 label_LR: 0.0001\n"
     ]
    }
   ],
   "source": [
    "mask_trainer = Trainer(mask_model, 0.01, nn.MSELoss(), step_size=500)\n",
    "mask_trainer.fit(train_loader, lambda batch: Variable(batch[\"masks\"]).cuda(), epochs=200)"
   ]
  },
  {
   "cell_type": "code",
   "execution_count": 33,
   "metadata": {
    "scrolled": true
   },
   "outputs": [
    {
     "data": {
      "image/png": "[encoded data removed]",
      "text/plain": [
       "<matplotlib.figure.Figure at 0x231afd28358>"
      ]
     },
     "metadata": {},
     "output_type": "display_data"
    },
    {
     "data": {
      "text/plain": [
       "None"
      ]
     },
     "metadata": {},
     "output_type": "display_data"
    },
    {
     "name": "stdout",
     "output_type": "stream",
     "text": [
      "epoch: 19\n",
      "label_loss: 1.4981 label_LR: 0.0002\n"
     ]
    }
   ],
   "source": [
    "label_trainer = Trainer(label_model, 0.0005, nn.CrossEntropyLoss(), step_size=200)\n",
    "label_trainer.fit(train_loader, lambda batch: Variable(batch[\"labels\"]).cuda(), epochs=20)"
   ]
  },
  {
   "cell_type": "markdown",
   "metadata": {},
   "source": [
    "# Save and load model"
   ]
  },
  {
   "cell_type": "code",
   "execution_count": 60,
   "metadata": {},
   "outputs": [
    {
     "name": "stderr",
     "output_type": "stream",
     "text": [
      "C:\\dev\\Anaconda3\\lib\\site-packages\\torch\\serialization.py:159: UserWarning: Couldn't retrieve source code for container of type ConvBlock. It won't be checked for correctness upon loading.\n",
      "  \"type \" + obj.__name__ + \". It won't be checked \"\n",
      "C:\\dev\\Anaconda3\\lib\\site-packages\\torch\\serialization.py:159: UserWarning: Couldn't retrieve source code for container of type DeconvBlock. It won't be checked for correctness upon loading.\n",
      "  \"type \" + obj.__name__ + \". It won't be checked \"\n",
      "C:\\dev\\Anaconda3\\lib\\site-packages\\torch\\serialization.py:159: UserWarning: Couldn't retrieve source code for container of type Flatten. It won't be checked for correctness upon loading.\n",
      "  \"type \" + obj.__name__ + \". It won't be checked \"\n"
     ]
    }
   ],
   "source": [
    "torch.save(mask_model, \"mask_model.pkl\")\n",
    "torch.save(label_model, \"label_model.pkl\")"
   ]
  },
  {
   "cell_type": "code",
   "execution_count": null,
   "metadata": {
    "collapsed": true
   },
   "outputs": [],
   "source": [
    "mask_model = torch.load(\"mask_model.pkl\").eval()\n",
    "label_model = torch.load(\"label_model.pkl\").eval()"
   ]
  },
  {
   "cell_type": "markdown",
   "metadata": {},
   "source": [
    "# Generate output data for eval"
   ]
  },
  {
   "cell_type": "code",
   "execution_count": 66,
   "metadata": {},
   "outputs": [],
   "source": [
    "y_masks = []\n",
    "y_labels = []\n",
    "\n",
    "for batch in test_loader:\n",
    "    y_labels.append(label_model(Variable(batch[\"images\"]).cuda()).cpu().data.numpy())\n",
    "    y_masks.append(mask_model(Variable(batch[\"images\"]).cuda()).cpu().data.permute(0, 2, 3, 1).numpy())\n",
    "    \n",
    "y_labels = np.argmax(np.vstack(y_labels), axis=1)\n",
    "y_masks = np.vstack(y_masks)"
   ]
  },
  {
   "cell_type": "code",
   "execution_count": 62,
   "metadata": {
    "collapsed": true
   },
   "outputs": [],
   "source": [
    "true_labels = dev[:][\"labels\"].cpu().numpy()"
   ]
  },
  {
   "cell_type": "code",
   "execution_count": 63,
   "metadata": {},
   "outputs": [
    {
     "data": {
      "text/plain": [
       "0.90700000000000003"
      ]
     },
     "execution_count": 63,
     "metadata": {},
     "output_type": "execute_result"
    }
   ],
   "source": [
    "np.mean(true_labels == y_labels)"
   ]
  },
  {
   "cell_type": "code",
   "execution_count": 64,
   "metadata": {},
   "outputs": [
    {
     "data": {
      "text/plain": [
       "0.987692196290195"
      ]
     },
     "execution_count": 64,
     "metadata": {},
     "output_type": "execute_result"
    }
   ],
   "source": [
    "a = torch.from_numpy(y_masks).round().byte().cpu()\n",
    "b = dev[:][\"masks\"].round().byte().cpu().permute(0,2,3,1)\n",
    "\n",
    "(a & b).float().sum() / (a | b).float().sum()"
   ]
  },
  {
   "cell_type": "code",
   "execution_count": 67,
   "metadata": {
    "collapsed": true
   },
   "outputs": [],
   "source": [
    "with open(\"fashion_masks_test.txt\", \"w\") as test_file:\n",
    "    for i in range(len(y_labels)):\n",
    "        print(y_labels[i], *y_masks[i].astype(np.uint8).flatten(), file=test_file)"
   ]
  },
  {
   "cell_type": "markdown",
   "metadata": {
    "collapsed": true
   },
   "source": [
    "# Mask previews"
   ]
  },
  {
   "cell_type": "code",
   "execution_count": null,
   "metadata": {},
   "outputs": [],
   "source": [
    "NUM_TO_COMPARE=2000\n",
    "\n",
    "dev_compare = dev[:NUM_TO_COMPARE][\"masks\"]\n",
    "gen_compare = mask_model(Variable(dev[:NUM_TO_COMPARE][\"images\"])).data\n",
    "\n",
    "a = dev_compare.round().byte()\n",
    "b = gen_compare.round().byte()\n",
    "\n",
    "(a & b).float().sum() / (a | b).float().sum()"
   ]
  },
  {
   "cell_type": "code",
   "execution_count": null,
   "metadata": {},
   "outputs": [],
   "source": [
    "imshow(gen_compare[:20].round(), figsize=(15, 5))"
   ]
  },
  {
   "cell_type": "code",
   "execution_count": null,
   "metadata": {},
   "outputs": [],
   "source": [
    "imshow(dev_compare[:20], figsize=(15, 5))"
   ]
  }
 ],
 "metadata": {
  "kernelspec": {
   "display_name": "Python 3",
   "language": "python",
   "name": "python3"
  },
  "language_info": {
   "codemirror_mode": {
    "name": "ipython",
    "version": 3
   },
   "file_extension": ".py",
   "mimetype": "text/x-python",
   "name": "python",
   "nbconvert_exporter": "python",
   "pygments_lexer": "ipython3",
   "version": "3.6.3"
  },
  "varInspector": {
   "cols": {
    "lenName": 16,
    "lenType": 16,
    "lenVar": 40
   },
   "kernels_config": {
    "python": {
     "delete_cmd_postfix": "",
     "delete_cmd_prefix": "del ",
     "library": "var_list.py",
     "varRefreshCmd": "print(var_dic_list())"
    },
    "r": {
     "delete_cmd_postfix": ") ",
     "delete_cmd_prefix": "rm(",
     "library": "var_list.r",
     "varRefreshCmd": "cat(var_dic_list()) "
    }
   },
   "position": {
    "height": "454px",
    "left": "1412px",
    "right": "20px",
    "top": "133px",
    "width": "488px"
   },
   "types_to_exclude": [
    "module",
    "function",
    "builtin_function_or_method",
    "instance",
    "_Feature"
   ],
   "window_display": false
  }
 },
 "nbformat": 4,
 "nbformat_minor": 2
}
